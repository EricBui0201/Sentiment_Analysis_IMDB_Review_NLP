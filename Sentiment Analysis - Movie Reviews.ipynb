{
 "cells": [
  {
   "cell_type": "markdown",
   "metadata": {
    "toc": true
   },
   "source": [
    "<h1>Table of Contents<span class=\"tocSkip\"></span></h1>\n",
    "<div class=\"toc\"><ul class=\"toc-item\"><li><span><a href=\"#Introduction\" data-toc-modified-id=\"Introduction-1\"><span class=\"toc-item-num\">1&nbsp;&nbsp;</span>Introduction</a></span></li><li><span><a href=\"#Libraries\" data-toc-modified-id=\"Libraries-2\"><span class=\"toc-item-num\">2&nbsp;&nbsp;</span>Libraries</a></span></li><li><span><a href=\"#Import-Data\" data-toc-modified-id=\"Import-Data-3\"><span class=\"toc-item-num\">3&nbsp;&nbsp;</span>Import Data</a></span></li><li><span><a href=\"#Text-Processing\" data-toc-modified-id=\"Text-Processing-4\"><span class=\"toc-item-num\">4&nbsp;&nbsp;</span>Text Processing</a></span><ul class=\"toc-item\"><li><span><a href=\"#Tokenization\" data-toc-modified-id=\"Tokenization-4.1\"><span class=\"toc-item-num\">4.1&nbsp;&nbsp;</span>Tokenization</a></span></li><li><span><a href=\"#Stopwords-handling\" data-toc-modified-id=\"Stopwords-handling-4.2\"><span class=\"toc-item-num\">4.2&nbsp;&nbsp;</span>Stopwords handling</a></span></li><li><span><a href=\"#Lemmatization\" data-toc-modified-id=\"Lemmatization-4.3\"><span class=\"toc-item-num\">4.3&nbsp;&nbsp;</span>Lemmatization</a></span></li><li><span><a href=\"#Create-a-new-dataframe-with-clean-text\" data-toc-modified-id=\"Create-a-new-dataframe-with-clean-text-4.4\"><span class=\"toc-item-num\">4.4&nbsp;&nbsp;</span>Create a new dataframe with clean text</a></span></li></ul></li><li><span><a href=\"#Modeling\" data-toc-modified-id=\"Modeling-5\"><span class=\"toc-item-num\">5&nbsp;&nbsp;</span>Modeling</a></span><ul class=\"toc-item\"><li><span><a href=\"#Prepare-train,-validation-and-test-set\" data-toc-modified-id=\"Prepare-train,-validation-and-test-set-5.1\"><span class=\"toc-item-num\">5.1&nbsp;&nbsp;</span>Prepare train, validation and test set</a></span></li><li><span><a href=\"#Note-on-Vectorization\" data-toc-modified-id=\"Note-on-Vectorization-5.2\"><span class=\"toc-item-num\">5.2&nbsp;&nbsp;</span>Note on Vectorization</a></span></li><li><span><a href=\"#Note-on-N-grams\" data-toc-modified-id=\"Note-on-N-grams-5.3\"><span class=\"toc-item-num\">5.3&nbsp;&nbsp;</span>Note on N-grams</a></span></li><li><span><a href=\"#Unigrams-Modeling-with-Logistic-Regression-and-Naives-Bayes-algorithms\" data-toc-modified-id=\"Unigrams-Modeling-with-Logistic-Regression-and-Naives-Bayes-algorithms-5.4\"><span class=\"toc-item-num\">5.4&nbsp;&nbsp;</span>Unigrams Modeling with Logistic Regression and Naives Bayes algorithms</a></span></li><li><span><a href=\"#Bigrams-Modeling-with-Logistic-Regression-and-Naives-Bayes-algorithms\" data-toc-modified-id=\"Bigrams-Modeling-with-Logistic-Regression-and-Naives-Bayes-algorithms-5.5\"><span class=\"toc-item-num\">5.5&nbsp;&nbsp;</span>Bigrams Modeling with Logistic Regression and Naives Bayes algorithms</a></span></li><li><span><a href=\"#Modeling-with-Convolutional-Neural-Network---Deep-learning\" data-toc-modified-id=\"Modeling-with-Convolutional-Neural-Network---Deep-learning-5.6\"><span class=\"toc-item-num\">5.6&nbsp;&nbsp;</span>Modeling with Convolutional Neural Network - Deep learning</a></span></li></ul></li><li><span><a href=\"#Conclusion\" data-toc-modified-id=\"Conclusion-6\"><span class=\"toc-item-num\">6&nbsp;&nbsp;</span>Conclusion</a></span></li></ul></div>"
   ]
  },
  {
   "cell_type": "markdown",
   "metadata": {},
   "source": [
    "# Introduction"
   ]
  },
  {
   "cell_type": "markdown",
   "metadata": {},
   "source": [
    "This dataset contains CSV versions of the Large Movie Review dataset by Maas, et al. (2011) from its original Stanford AI Repository. It contains 50k highly polar movie reviews, evenly split to 25k positives and 25k negatives. Each sample is labeled with a 0 (positive) or 1 (negative). The additional ~11k unlabeled review data has also been included in CSV format for your convenience."
   ]
  },
  {
   "cell_type": "markdown",
   "metadata": {},
   "source": [
    "# Libraries"
   ]
  },
  {
   "cell_type": "code",
   "execution_count": 2,
   "metadata": {},
   "outputs": [],
   "source": [
    "import pandas as pd\n",
    "import numpy as np\n",
    "\n",
    "import matplotlib.pyplot as plt\n",
    "import seaborn as sns\n",
    "%matplotlib inline\n",
    "sns.set()\n",
    "\n",
    "import itertools\n",
    "\n",
    "#Specific library for NLP needs\n",
    "import nltk\n",
    "import spacy\n",
    "import re\n",
    "import string #list of punctuation\n",
    "\n",
    "from collections import Counter #to create dictionary with key = word and value = count number\n",
    "\n",
    "#For convolutional neural network\n",
    "# from __future__ import division, print_function\n",
    "from gensim import models\n",
    "from keras.callbacks import ModelCheckpoint\n",
    "from keras.layers import Dense, Dropout, Reshape, Flatten, concatenate, Input, Conv1D, GlobalMaxPooling1D, Embedding\n",
    "from keras.layers.recurrent import LSTM\n",
    "from keras.models import Sequential\n",
    "from keras.preprocessing.text import Tokenizer\n",
    "from keras.preprocessing.sequence import pad_sequences\n",
    "from keras.models import Model\n",
    "\n",
    "\n",
    "#Modeling\n",
    "from sklearn.neighbors import KNeighborsClassifier\n",
    "from sklearn.linear_model import LogisticRegression\n",
    "from sklearn.svm import SVC\n",
    "from sklearn.naive_bayes import GaussianNB\n",
    "from sklearn.ensemble import AdaBoostClassifier, RandomForestClassifier\n",
    "from xgboost import XGBClassifier\n",
    "from catboost import CatBoostClassifier\n",
    "from sklearn.tree import DecisionTreeClassifier\n",
    "from sklearn.naive_bayes import MultinomialNB\n",
    "\n",
    "\n",
    "#Text processing\n",
    "from nltk.tokenize import word_tokenize\n",
    "from nltk.stem import WordNetLemmatizer\n",
    "from nltk.corpus import stopwords \n",
    "from sklearn.feature_extraction.text import TfidfVectorizer, TfidfTransformer, CountVectorizer\n",
    "\n",
    "\n",
    "#Split data into train sample and test sample\n",
    "from sklearn.model_selection import train_test_split\n",
    "\n",
    "#Print result of model quality check\n",
    "from sklearn.metrics import confusion_matrix, accuracy_score, recall_score, f1_score, precision_score, classification_report\n",
    "\n",
    "#Validation set and Cross validation \n",
    "from sklearn.model_selection import KFold\n",
    "from sklearn.model_selection import RepeatedStratifiedKFold\n",
    "from sklearn.model_selection import cross_val_score\n",
    "\n",
    "#Create a pipeline for the whole process\n",
    "from sklearn.pipeline import Pipeline\n",
    "\n",
    "#Export model and open model\n",
    "import pickle\n",
    "\n",
    "\n",
    "import warnings\n",
    "warnings.simplefilter('ignore')\n",
    "\n"
   ]
  },
  {
   "cell_type": "markdown",
   "metadata": {},
   "source": [
    "# Import Data"
   ]
  },
  {
   "cell_type": "code",
   "execution_count": 2,
   "metadata": {},
   "outputs": [],
   "source": [
    "df=pd.read_csv('D:/Documents/Ironhack/Projet 7/Data/train/train.csv')"
   ]
  },
  {
   "cell_type": "code",
   "execution_count": 3,
   "metadata": {},
   "outputs": [
    {
     "data": {
      "text/html": [
       "<div>\n",
       "<style scoped>\n",
       "    .dataframe tbody tr th:only-of-type {\n",
       "        vertical-align: middle;\n",
       "    }\n",
       "\n",
       "    .dataframe tbody tr th {\n",
       "        vertical-align: top;\n",
       "    }\n",
       "\n",
       "    .dataframe thead th {\n",
       "        text-align: right;\n",
       "    }\n",
       "</style>\n",
       "<table border=\"1\" class=\"dataframe\">\n",
       "  <thead>\n",
       "    <tr style=\"text-align: right;\">\n",
       "      <th></th>\n",
       "      <th>text</th>\n",
       "      <th>sentiment</th>\n",
       "    </tr>\n",
       "  </thead>\n",
       "  <tbody>\n",
       "    <tr>\n",
       "      <th>0</th>\n",
       "      <td>For a movie that gets no respect there sure ar...</td>\n",
       "      <td>0</td>\n",
       "    </tr>\n",
       "    <tr>\n",
       "      <th>1</th>\n",
       "      <td>Bizarre horror movie filled with famous faces ...</td>\n",
       "      <td>0</td>\n",
       "    </tr>\n",
       "    <tr>\n",
       "      <th>2</th>\n",
       "      <td>A solid, if unremarkable film. Matthau, as Ein...</td>\n",
       "      <td>0</td>\n",
       "    </tr>\n",
       "    <tr>\n",
       "      <th>3</th>\n",
       "      <td>It's a strange feeling to sit alone in a theat...</td>\n",
       "      <td>0</td>\n",
       "    </tr>\n",
       "    <tr>\n",
       "      <th>4</th>\n",
       "      <td>You probably all already know this by now, but...</td>\n",
       "      <td>0</td>\n",
       "    </tr>\n",
       "  </tbody>\n",
       "</table>\n",
       "</div>"
      ],
      "text/plain": [
       "                                                text  sentiment\n",
       "0  For a movie that gets no respect there sure ar...          0\n",
       "1  Bizarre horror movie filled with famous faces ...          0\n",
       "2  A solid, if unremarkable film. Matthau, as Ein...          0\n",
       "3  It's a strange feeling to sit alone in a theat...          0\n",
       "4  You probably all already know this by now, but...          0"
      ]
     },
     "execution_count": 3,
     "metadata": {},
     "output_type": "execute_result"
    }
   ],
   "source": [
    "df.head()"
   ]
  },
  {
   "cell_type": "code",
   "execution_count": 4,
   "metadata": {
    "scrolled": true
   },
   "outputs": [
    {
     "name": "stdout",
     "output_type": "stream",
     "text": [
      "<class 'pandas.core.frame.DataFrame'>\n",
      "RangeIndex: 25000 entries, 0 to 24999\n",
      "Data columns (total 2 columns):\n",
      " #   Column     Non-Null Count  Dtype \n",
      "---  ------     --------------  ----- \n",
      " 0   text       25000 non-null  object\n",
      " 1   sentiment  25000 non-null  int64 \n",
      "dtypes: int64(1), object(1)\n",
      "memory usage: 390.8+ KB\n"
     ]
    }
   ],
   "source": [
    "df.info()"
   ]
  },
  {
   "cell_type": "code",
   "execution_count": 5,
   "metadata": {},
   "outputs": [
    {
     "data": {
      "text/plain": [
       "1    12500\n",
       "0    12500\n",
       "Name: sentiment, dtype: int64"
      ]
     },
     "execution_count": 5,
     "metadata": {},
     "output_type": "execute_result"
    }
   ],
   "source": [
    "df['sentiment'].value_counts()"
   ]
  },
  {
   "cell_type": "markdown",
   "metadata": {},
   "source": [
    "# Text Processing"
   ]
  },
  {
   "cell_type": "markdown",
   "metadata": {},
   "source": [
    "The standard text mining procedures are to extract useful features from the news contents, including tokenization, removing stopwords, and lemmatization."
   ]
  },
  {
   "cell_type": "markdown",
   "metadata": {},
   "source": [
    "In order to visualize what we do in each step with the text, we will create, for the result of each step, a column so that we can compare the change of the text between different version."
   ]
  },
  {
   "cell_type": "markdown",
   "metadata": {},
   "source": [
    "## Tokenization"
   ]
  },
  {
   "cell_type": "markdown",
   "metadata": {},
   "source": [
    "The first step of preprocessing text data is to break every sentence into individual words, which is called tokenization. Taking individual words rather than sentences breaks down the connections between words. However, it is a common method used to analyze large sets of text data. It is efficient and convenient for computers to analyze the text data by examines what words appear in an article and how many times these words appear, and is sufficient enough to give insightful results."
   ]
  },
  {
   "cell_type": "code",
   "execution_count": 6,
   "metadata": {
    "scrolled": false
   },
   "outputs": [
    {
     "data": {
      "text/plain": [
       "\"Sure, it was cheesy and nonsensical and at times corny, but at least the filmmakers didn't try. While most TV movies border on the brink of mediocrity, this film actually has some redeeming qualities to it. The cinematography was pretty good for a TV film, and Viggo Mortensen displays shades of Aragorn in a film about a man who played by his own rules. Most of the flashback sequences were kind of cheesy, but the scene with the mountain lion was intense. I was kind of annoyed by Jason Priestly's role in the film as a rebellious shock-jock, but then again, it's a TV MOVIE! Despite all of the good things, the soundtrack was atrocious. However, it was nice to see Tucson, Arizona prominently featured in the film.\""
      ]
     },
     "execution_count": 6,
     "metadata": {},
     "output_type": "execute_result"
    }
   ],
   "source": [
    "# An example of the review\n",
    "df['text'][100]\n"
   ]
  },
  {
   "cell_type": "code",
   "execution_count": 7,
   "metadata": {},
   "outputs": [],
   "source": [
    "#Define our function to tokenize each review\n",
    "\n",
    "def tonkenization(text):\n",
    "    #break down sentence into list of seperate words and characters\n",
    "    words = word_tokenize(text)\n",
    "    \n",
    "    #remove all punctuation\n",
    "    words = [char for char in words if char not in string.punctuation]\n",
    "\n",
    "    #remove all characters'names, movies' names recognised by the uppecase -> to see if it is necessary because it could remove other words than names too\n",
    "    words = [word for word in words if word.islower()]\n",
    "    \n",
    "    #remove digits and other symbols\n",
    "    words = [re.sub(r\"[^A-Za-z]\", \"\", word) for word in words]\n",
    "    \n",
    "    # filter out short tokens\n",
    "    words = [word for word in words if len(word) > 1]\n",
    "    \n",
    "    #remove emtpy space\n",
    "    words = [word for word in words if word !='']\n",
    "    \n",
    "    #combine a list into one string   \n",
    "    text_token = ' '.join(words)\n",
    "    \n",
    "    return text_token\n",
    "\n",
    "    \n",
    "    "
   ]
  },
  {
   "cell_type": "code",
   "execution_count": 8,
   "metadata": {
    "scrolled": true
   },
   "outputs": [
    {
     "data": {
      "text/plain": [
       "'it was cheesy and nonsensical and at times corny but at least the filmmakers did nt try most movies border on the brink of mediocrity this film actually has some redeeming qualities to it cinematography was pretty good for film and displays shades of in film about man who played by his own rules of the flashback sequences were kind of cheesy but the scene with the mountain lion was intense was kind of annoyed by role in the film as rebellious shockjock but then again it all of the good things the soundtrack was atrocious it was nice to see prominently featured in the film'"
      ]
     },
     "execution_count": 8,
     "metadata": {},
     "output_type": "execute_result"
    }
   ],
   "source": [
    "#Test our function\n",
    "tonkenization(df['text'][100])"
   ]
  },
  {
   "cell_type": "markdown",
   "metadata": {},
   "source": [
    "## Stopwords handling"
   ]
  },
  {
   "cell_type": "markdown",
   "metadata": {},
   "source": [
    "Stopwords are words that frequently appear in many articles, but without significant meanings. Examples of stopwords are ‘I’, ‘the’, ‘a’, ‘of’. These are the words that will not intervene in the understanding of articles if removed."
   ]
  },
  {
   "cell_type": "code",
   "execution_count": 9,
   "metadata": {},
   "outputs": [],
   "source": [
    "# Define a function that remove all stopwords in english from the token\n",
    "def no_stopwords(text):\n",
    "    list_words = text.split()\n",
    "    nostopwords = [word for word in list_words if word not in stopwords.words('english')]\n",
    "    \n",
    "    #combine a list into one string   \n",
    "    text_nostopwords = ' '.join(nostopwords)   \n",
    "    \n",
    "    return text_nostopwords\n",
    "    "
   ]
  },
  {
   "cell_type": "code",
   "execution_count": 10,
   "metadata": {
    "scrolled": true
   },
   "outputs": [
    {
     "name": "stdout",
     "output_type": "stream",
     "text": [
      "cheesy nonsensical times corny least filmmakers nt try movies border brink mediocrity film actually redeeming qualities cinematography pretty good film displays shades film man played rules flashback sequences kind cheesy scene mountain lion intense kind annoyed role film rebellious shockjock good things soundtrack atrocious nice see prominently featured film\n"
     ]
    }
   ],
   "source": [
    "#Test function stopwords\n",
    "print(no_stopwords(tonkenization(df['text'][100])))"
   ]
  },
  {
   "cell_type": "markdown",
   "metadata": {},
   "source": [
    "## Lemmatization"
   ]
  },
  {
   "cell_type": "markdown",
   "metadata": {},
   "source": [
    "To count the appearance of each word, it is essential to remove grammar tense and transform each word into its original form. For example, if we want to calculate how many times the word ‘open’ appears in a news article, we need to count the appearances of ‘open’, ‘opens’, ‘opened’. Thus, lemmatization is an essential step for text transformation. Another way of converting words to its original form is called stemming."
   ]
  },
  {
   "cell_type": "code",
   "execution_count": 11,
   "metadata": {},
   "outputs": [],
   "source": [
    "def lemmatization(text):\n",
    "    lm = WordNetLemmatizer()\n",
    "    text_lemmatized=' '.join([lm.lemmatize(word) for word in text.split()])\n",
    "    return text_lemmatized"
   ]
  },
  {
   "cell_type": "code",
   "execution_count": 12,
   "metadata": {
    "scrolled": true
   },
   "outputs": [
    {
     "name": "stdout",
     "output_type": "stream",
     "text": [
      "cheesy nonsensical time corny least filmmaker nt try movie border brink mediocrity film actually redeeming quality cinematography pretty good film display shade film man played rule flashback sequence kind cheesy scene mountain lion intense kind annoyed role film rebellious shockjock good thing soundtrack atrocious nice see prominently featured film\n"
     ]
    }
   ],
   "source": [
    "#Test function lemmatization\n",
    "print(lemmatization(no_stopwords(tonkenization(df['text'][100]))))"
   ]
  },
  {
   "cell_type": "markdown",
   "metadata": {},
   "source": [
    "## Create a new dataframe with clean text"
   ]
  },
  {
   "cell_type": "code",
   "execution_count": 8,
   "metadata": {},
   "outputs": [],
   "source": [
    "# In order to run our text processing faster, we combine all these functions above in one function\n",
    "def text_processing(text):\n",
    "    \n",
    "    #break down sentence into list of seperate words and characters\n",
    "    words = word_tokenize(text)\n",
    "    \n",
    "    #remove all punctuation\n",
    "    words = [char for char in words if char not in string.punctuation]\n",
    "\n",
    "    #remove all characters'names, movies' names recognised by the uppecase -> to see if it is necessary because it could remove other words than names too\n",
    "    words = [word for word in words if word.islower()]\n",
    "    \n",
    "    #remove digits and other symbols\n",
    "    words = [re.sub(r\"[^A-Za-z]\", \"\", word) for word in words]\n",
    "    \n",
    "    # filter out short tokens\n",
    "    words = [word for word in words if len(word) > 1]\n",
    "    \n",
    "    #remove emtpy space\n",
    "    list_words = [word for word in words if word !='']\n",
    "    \n",
    "    #remove stopwords\n",
    "    list_words = [word for word in list_words if word not in stopwords.words('english')]\n",
    "    \n",
    "    #lemmatize words\n",
    "    lm = WordNetLemmatizer()\n",
    "    text_lemmatized=' '.join([lm.lemmatize(word) for word in list_words])\n",
    "    \n",
    "    return text_lemmatized"
   ]
  },
  {
   "cell_type": "code",
   "execution_count": 14,
   "metadata": {},
   "outputs": [],
   "source": [
    "#We will combine all the function and create new columns in our dataframe\n",
    "df_clean = df.copy()"
   ]
  },
  {
   "cell_type": "code",
   "execution_count": 9,
   "metadata": {
    "scrolled": true
   },
   "outputs": [],
   "source": [
    "#Apply the function to create the new column containing only clean words\n",
    "df_clean['text_clean'] = df_clean['text'].map(lambda x: text_processing(x))"
   ]
  },
  {
   "cell_type": "code",
   "execution_count": 4,
   "metadata": {},
   "outputs": [],
   "source": [
    "# Extract the clean dataframe to csv file\n",
    "# df_clean.to_csv('D:/Documents/Ironhack/Projet 7/Data/df_clean.csv',index = False)"
   ]
  },
  {
   "cell_type": "code",
   "execution_count": 5,
   "metadata": {},
   "outputs": [],
   "source": [
    "df_clean = pd.read_csv('D:/Documents/Ironhack/Projet 7/Data/df_clean.csv')"
   ]
  },
  {
   "cell_type": "code",
   "execution_count": 6,
   "metadata": {
    "scrolled": true
   },
   "outputs": [
    {
     "data": {
      "text/html": [
       "<div>\n",
       "<style scoped>\n",
       "    .dataframe tbody tr th:only-of-type {\n",
       "        vertical-align: middle;\n",
       "    }\n",
       "\n",
       "    .dataframe tbody tr th {\n",
       "        vertical-align: top;\n",
       "    }\n",
       "\n",
       "    .dataframe thead th {\n",
       "        text-align: right;\n",
       "    }\n",
       "</style>\n",
       "<table border=\"1\" class=\"dataframe\">\n",
       "  <thead>\n",
       "    <tr style=\"text-align: right;\">\n",
       "      <th></th>\n",
       "      <th>text</th>\n",
       "      <th>sentiment</th>\n",
       "    </tr>\n",
       "  </thead>\n",
       "  <tbody>\n",
       "    <tr>\n",
       "      <th>0</th>\n",
       "      <td>For a movie that gets no respect there sure ar...</td>\n",
       "      <td>0</td>\n",
       "    </tr>\n",
       "    <tr>\n",
       "      <th>1</th>\n",
       "      <td>Bizarre horror movie filled with famous faces ...</td>\n",
       "      <td>0</td>\n",
       "    </tr>\n",
       "    <tr>\n",
       "      <th>2</th>\n",
       "      <td>A solid, if unremarkable film. Matthau, as Ein...</td>\n",
       "      <td>0</td>\n",
       "    </tr>\n",
       "    <tr>\n",
       "      <th>3</th>\n",
       "      <td>It's a strange feeling to sit alone in a theat...</td>\n",
       "      <td>0</td>\n",
       "    </tr>\n",
       "    <tr>\n",
       "      <th>4</th>\n",
       "      <td>You probably all already know this by now, but...</td>\n",
       "      <td>0</td>\n",
       "    </tr>\n",
       "  </tbody>\n",
       "</table>\n",
       "</div>"
      ],
      "text/plain": [
       "                                                text  sentiment\n",
       "0  For a movie that gets no respect there sure ar...          0\n",
       "1  Bizarre horror movie filled with famous faces ...          0\n",
       "2  A solid, if unremarkable film. Matthau, as Ein...          0\n",
       "3  It's a strange feeling to sit alone in a theat...          0\n",
       "4  You probably all already know this by now, but...          0"
      ]
     },
     "execution_count": 6,
     "metadata": {},
     "output_type": "execute_result"
    }
   ],
   "source": [
    "df_clean.head()"
   ]
  },
  {
   "cell_type": "markdown",
   "metadata": {},
   "source": [
    "As we can see, the cleaned text is perfectly added in the dataframe.\n",
    "\n",
    "From now on, we will use this dataframe for our modeling"
   ]
  },
  {
   "cell_type": "markdown",
   "metadata": {},
   "source": [
    "# Modeling"
   ]
  },
  {
   "cell_type": "markdown",
   "metadata": {},
   "source": [
    "## Prepare train, validation and test set"
   ]
  },
  {
   "cell_type": "code",
   "execution_count": 21,
   "metadata": {
    "scrolled": true
   },
   "outputs": [
    {
     "name": "stdout",
     "output_type": "stream",
     "text": [
      "Shape of X_train: 15000\n",
      "Shape of X_val: 5000\n",
      "Shape of X_test: 5000\n"
     ]
    }
   ],
   "source": [
    "#Create variable X and y\n",
    "X = df_clean['text_clean']\n",
    "y = df_clean['sentiment']\n",
    "\n",
    "#Ratio of split between train, validation and test set\n",
    "train_ratio = 0.60\n",
    "validation_ratio = 0.20\n",
    "test_ratio = 0.20\n",
    "\n",
    "\n",
    "# train is now 75% of the entire data set\n",
    "# the _junk suffix means that we drop that variable completely\n",
    "X_train, X_test, y_train, y_test = train_test_split(X, y, test_size=1 - train_ratio)\n",
    "\n",
    "# test is now 10% of the initial data set\n",
    "# validation is now 15% of the initial data set\n",
    "X_val, X_test, y_val, y_test = train_test_split(X_test, y_test, test_size=test_ratio/(test_ratio + validation_ratio)) \n",
    "\n",
    "print('Shape of X_train:', X_train.shape[0])\n",
    "print('Shape of X_val:', X_val.shape[0])\n",
    "print('Shape of X_test:', X_test.shape[0])"
   ]
  },
  {
   "cell_type": "markdown",
   "metadata": {},
   "source": [
    "## Note on Vectorization"
   ]
  },
  {
   "cell_type": "markdown",
   "metadata": {},
   "source": [
    "Vectorization is the step where we convert each review (list of tokens above), into a vector that machine learning models can understand. \n",
    "\n",
    "We can do it by three steps using the bag-of-words model: \n",
    "- Count how many times does a word occur in each message (Known as term frequency) \n",
    "- Weigh the counts, so that frequent tokens get lower weight (inverse document frequency) \n",
    "- Normalize the vectors to unit length, to abstract from the original text length (L2 norm) \n",
    "\n",
    "After the counting, the count could be done with CountVectorizer and the term weighting/normalization could be done with TF-IDF, using scikit-learn's TfidfTransformer."
   ]
  },
  {
   "cell_type": "markdown",
   "metadata": {},
   "source": [
    "In this project, we will try different algorimths for modeling:\n",
    "- Logistic Regression\n",
    "- Naives Bayes\n",
    "- Neural network"
   ]
  },
  {
   "cell_type": "markdown",
   "metadata": {},
   "source": [
    "## Note on N-grams"
   ]
  },
  {
   "cell_type": "markdown",
   "metadata": {},
   "source": [
    "N-grams is a technique used with vectorizer. The basic idea is that instead of counting and evaluating one single word, in some case, our model can perfom more accurately by examining two or three word sequences.\n",
    "\n",
    "For example, we have a review having the three word sequence “didn’t love movie”. In case of unigram-model where we examine each word separately, we would probably not capture that this is actually a negative sentiment. In fact, the word ‘love’ by itself is going to be highly correlated with a positive review.\n",
    "\n",
    "Thus, in the frame of this project we will run our model with unigram and bigrams to see if our models would perform better with bigrams than unigram.\n",
    "\n",
    "However, there are some important point relating to the choice of n-grams:\n",
    "- Technically, there is no limit on the size that n can be for models\n",
    "- Increasing the number of grams will not necessarily give a better performance\n",
    "- The size of the vector matrix grows exponentially as we increment n. Therefore, if we have a large corpus that is comprised of large documents, the model may take a very long time to train.\n"
   ]
  },
  {
   "cell_type": "markdown",
   "metadata": {},
   "source": [
    "## Unigrams Modeling with Logistic Regression and Naives Bayes algorithms"
   ]
  },
  {
   "cell_type": "code",
   "execution_count": 35,
   "metadata": {},
   "outputs": [],
   "source": [
    "#Create function that plot the confusion matrix\n",
    "def plot_confusion_matrix(cm, classes,\n",
    "                          normalize=False,\n",
    "                          title='Confusion matrix',\n",
    "                          cmap=plt.cm.winter):\n",
    "    if normalize:\n",
    "        cm = cm.astype('float') / cm.sum(axis=1)[:, np.newaxis]\n",
    "    plt.imshow(cm, interpolation='nearest', cmap=cmap)\n",
    "    plt.title(title, fontsize=20)\n",
    "    plt.colorbar()\n",
    "    tick_marks = np.arange(len(classes))\n",
    "    plt.xticks(tick_marks, classes, fontsize=15)\n",
    "    plt.yticks(tick_marks, classes, fontsize=15)\n",
    "    \n",
    "    fmt = '.2f' if normalize else 'd'\n",
    "    thresh = cm.max() / 2.\n",
    "\n",
    "    for i, j in itertools.product(range(cm.shape[0]), range(cm.shape[1])):\n",
    "        plt.text(j, i, format(cm[i, j], fmt), horizontalalignment=\"center\", \n",
    "                 color=\"white\" if cm[i, j] < thresh else \"black\", fontsize=20)\n",
    "    \n",
    "    plt.tight_layout()\n",
    "    plt.ylabel('True label', fontsize=15)\n",
    "    plt.xlabel('Predicted label', fontsize=15)\n",
    "\n",
    "\n",
    "    return plt"
   ]
  },
  {
   "cell_type": "code",
   "execution_count": 23,
   "metadata": {},
   "outputs": [],
   "source": [
    "def model_count_tfidf(classifier, X_train, y_train, X_val, y_val):\n",
    "#     for n in classifier:\n",
    "    pipe = Pipeline([\n",
    "    ('bow',CountVectorizer()),\n",
    "    ('tfidf',TfidfTransformer()),\n",
    "    ('classifier',classifier())])\n",
    "\n",
    "    pipe.fit(X_train,y_train)\n",
    "    pred = pipe.predict(X_val)\n",
    "    cm = confusion_matrix(y_val,pred)\n",
    "\n",
    "\n",
    "    print(f'The classifier is {classifier()}','\\n')\n",
    "    print(classification_report(y_val,pred))\n",
    "    \n",
    "    fig = plt.figure(figsize=(5, 5))\n",
    "    plot = plot_confusion_matrix(cm, classes=['Positive','Negative'], normalize=False, title='Confusion matrix')\n",
    "    plt.show()"
   ]
  },
  {
   "cell_type": "code",
   "execution_count": 24,
   "metadata": {},
   "outputs": [],
   "source": [
    "def important_features(vectorizer,classifier,nb_top,X_train,y_train):\n",
    "    # Create the vectorizer, classifier and fit into train set\n",
    "    vector = vectorizer()\n",
    "    vector.fit(X_train,y_train)\n",
    "    X_train_vecto = vector.transform(X_train)\n",
    "    model = classifier()\n",
    "    model.fit(X_train_vecto,y_train)\n",
    "    \n",
    "    print(f'Classifier is {classifier()}')\n",
    "    \n",
    "    #Create the dictionary with key = word, value = coefficience corresponding to this word\n",
    "    feature_to_coef = {word: coef for word, coef in zip(vector.get_feature_names(), model.coef_[0])}\n",
    "    \n",
    "    #Print top positive and negative words\n",
    "    for best_positive in sorted(feature_to_coef.items(),key=lambda x: x[1],reverse=True)[:nb_top]:\n",
    "        print (f'Top {nb_top} negative words:',best_positive)\n",
    "    print('\\n')\n",
    "    for best_negative in sorted(feature_to_coef.items(),key=lambda x: x[1])[:nb_top]:\n",
    "        print (f'Top {nb_top} positive words:',best_negative)"
   ]
  },
  {
   "cell_type": "code",
   "execution_count": 36,
   "metadata": {
    "scrolled": false
   },
   "outputs": [
    {
     "name": "stdout",
     "output_type": "stream",
     "text": [
      "The classifier is LogisticRegression() \n",
      "\n",
      "              precision    recall  f1-score   support\n",
      "\n",
      "           0       0.88      0.88      0.88      2539\n",
      "           1       0.87      0.87      0.87      2461\n",
      "\n",
      "    accuracy                           0.87      5000\n",
      "   macro avg       0.87      0.87      0.87      5000\n",
      "weighted avg       0.87      0.87      0.87      5000\n",
      "\n"
     ]
    },
    {
     "data": {
      "image/png": "[encoded data removed]",
      "text/plain": [
       "<Figure size 360x360 with 2 Axes>"
      ]
     },
     "metadata": {},
     "output_type": "display_data"
    }
   ],
   "source": [
    "model_count_tfidf(LogisticRegression,X_train, y_train, X_val, y_val)"
   ]
  },
  {
   "cell_type": "code",
   "execution_count": 26,
   "metadata": {
    "scrolled": false
   },
   "outputs": [
    {
     "name": "stdout",
     "output_type": "stream",
     "text": [
      "Classifier is LogisticRegression()\n",
      "Top 10 negative words: ('worst', 2.4005333245289355)\n",
      "Top 10 negative words: ('waste', 1.9900004854391535)\n",
      "Top 10 negative words: ('disappointment', 1.9100096372983337)\n",
      "Top 10 negative words: ('awful', 1.7092638985453885)\n",
      "Top 10 negative words: ('poorly', 1.6245949003287377)\n",
      "Top 10 negative words: ('alright', 1.5845875294451413)\n",
      "Top 10 negative words: ('worse', 1.5752919870849011)\n",
      "Top 10 negative words: ('wasted', 1.574447534366774)\n",
      "Top 10 negative words: ('boring', 1.520412749180246)\n",
      "Top 10 negative words: ('disappointing', 1.4785425712014064)\n",
      "\n",
      "\n",
      "Top 10 positive words: ('refreshing', -1.5561754462020343)\n",
      "Top 10 positive words: ('funniest', -1.442194900332136)\n",
      "Top 10 positive words: ('perfectly', -1.4243456367891767)\n",
      "Top 10 positive words: ('excellent', -1.4116358031169434)\n",
      "Top 10 positive words: ('perfect', -1.3887162246711582)\n",
      "Top 10 positive words: ('superb', -1.3102821820017088)\n",
      "Top 10 positive words: ('surprisingly', -1.252952768095244)\n",
      "Top 10 positive words: ('ideal', -1.2327634456405436)\n",
      "Top 10 positive words: ('wonderful', -1.2264235654607718)\n",
      "Top 10 positive words: ('complain', -1.2243397407516277)\n"
     ]
    }
   ],
   "source": [
    "important_features(CountVectorizer,LogisticRegression,10,X_train,y_train)"
   ]
  },
  {
   "cell_type": "code",
   "execution_count": 37,
   "metadata": {
    "scrolled": false
   },
   "outputs": [
    {
     "name": "stdout",
     "output_type": "stream",
     "text": [
      "The classifier is MultinomialNB() \n",
      "\n",
      "              precision    recall  f1-score   support\n",
      "\n",
      "           0       0.87      0.86      0.86      2539\n",
      "           1       0.86      0.87      0.86      2461\n",
      "\n",
      "    accuracy                           0.86      5000\n",
      "   macro avg       0.86      0.86      0.86      5000\n",
      "weighted avg       0.86      0.86      0.86      5000\n",
      "\n"
     ]
    },
    {
     "data": {
      "image/png": "[encoded data removed]",
      "text/plain": [
       "<Figure size 360x360 with 2 Axes>"
      ]
     },
     "metadata": {},
     "output_type": "display_data"
    }
   ],
   "source": [
    "model_count_tfidf(MultinomialNB,X_train, y_train, X_val, y_val)"
   ]
  },
  {
   "cell_type": "code",
   "execution_count": 38,
   "metadata": {
    "scrolled": true
   },
   "outputs": [
    {
     "name": "stdout",
     "output_type": "stream",
     "text": [
      "Classifier is MultinomialNB()\n",
      "Top 10 negative words: ('movie', -3.8576899694172937)\n",
      "Top 10 negative words: ('film', -4.107994866450609)\n",
      "Top 10 negative words: ('nt', -4.195672465983202)\n",
      "Top 10 negative words: ('one', -4.708221221828367)\n",
      "Top 10 negative words: ('like', -4.802975228092215)\n",
      "Top 10 negative words: ('would', -5.164247881279577)\n",
      "Top 10 negative words: ('time', -5.201583166474244)\n",
      "Top 10 negative words: ('good', -5.229532785785498)\n",
      "Top 10 negative words: ('character', -5.254676425348485)\n",
      "Top 10 negative words: ('bad', -5.26603057558952)\n",
      "\n",
      "\n",
      "Top 10 positive words: ('aadha', -13.58866767254346)\n",
      "Top 10 positive words: ('aaww', -13.58866767254346)\n",
      "Top 10 positive words: ('abanks', -13.58866767254346)\n",
      "Top 10 positive words: ('abatement', -13.58866767254346)\n",
      "Top 10 positive words: ('abating', -13.58866767254346)\n",
      "Top 10 positive words: ('abbey', -13.58866767254346)\n",
      "Top 10 positive words: ('abbot', -13.58866767254346)\n",
      "Top 10 positive words: ('abc', -13.58866767254346)\n",
      "Top 10 positive words: ('abdominal', -13.58866767254346)\n",
      "Top 10 positive words: ('abe', -13.58866767254346)\n"
     ]
    }
   ],
   "source": [
    "important_features(CountVectorizer,MultinomialNB,10,X_train,y_train)"
   ]
  },
  {
   "cell_type": "markdown",
   "metadata": {},
   "source": [
    "As we can see, the LR model gives a better result that the NB model. (88% vs 86%).\n",
    "\n",
    "When we check the top 10 important words for each type of reviews (posivite and negative), we note that the LR model choose quite correctly the words that relate to the relevant type of review (worst, dispointing,... for negavite review and funiest, excellent,... for positive review).\n",
    "Au contraire, the top 10 words from NB model do not correspond to the relevant type of comments and there are some meaningless words have been choosen by this model.\n",
    "\n",
    "Thus, LR is now the best model."
   ]
  },
  {
   "cell_type": "markdown",
   "metadata": {},
   "source": [
    "## Bigrams Modeling with Logistic Regression and Naives Bayes algorithms"
   ]
  },
  {
   "cell_type": "markdown",
   "metadata": {},
   "source": [
    "As explained above, we previously ran unigram models which examine only separate words. In this par, we will use bigrams which is a technique used with vectorizer to examine not only separate words but also two words sequences.\n",
    "\n",
    "We will try this technique and see if the performance of our models would be better."
   ]
  },
  {
   "cell_type": "code",
   "execution_count": 39,
   "metadata": {},
   "outputs": [],
   "source": [
    "#Create bigram function giving scores and confusion metric\n",
    "def model_bigrams(classifier, X_train, y_train, X_val, y_val):\n",
    "    #We add the parameter of ngram in the CountVectorizer()\n",
    "    pipe = Pipeline([\n",
    "    ('bow',CountVectorizer(ngram_range = (1,2))),\n",
    "    ('tfidf',TfidfTransformer()),\n",
    "    ('classifier',classifier())])\n",
    "\n",
    "    pipe.fit(X_train,y_train)\n",
    "    pred = pipe.predict(X_val)\n",
    "    cm = confusion_matrix(y_val,pred)\n",
    "\n",
    "\n",
    "    print(f'The classifier is {classifier()}','\\n')\n",
    "    print(classification_report(y_val,pred))\n",
    "    \n",
    "    fig = plt.figure(figsize=(5, 5))\n",
    "    plot = plot_confusion_matrix(cm, classes=['Positive','Negative'], normalize=False, title='Confusion matrix')\n",
    "    plt.show()"
   ]
  },
  {
   "cell_type": "code",
   "execution_count": 40,
   "metadata": {},
   "outputs": [],
   "source": [
    "def important_features_bigram(vectorizer,classifier,nb_top,X_train,y_train):\n",
    "    # Create the vectorizer, classifier and fit into train set\n",
    "    vector = vectorizer(ngram_range = (1,2))\n",
    "    vector.fit(X_train,y_train)\n",
    "    X_train_vecto = vector.transform(X_train)\n",
    "    model = classifier()\n",
    "    model.fit(X_train_vecto,y_train)\n",
    "    \n",
    "    print(f'Classifier is {classifier()}')\n",
    "    \n",
    "    #Create the dictionary with key = word, value = coefficience corresponding to this word\n",
    "    feature_to_coef = {word: coef for word, coef in zip(vector.get_feature_names(), model.coef_[0])}\n",
    "    \n",
    "    #Print top positive and negative words\n",
    "    for best_positive in sorted(feature_to_coef.items(),key=lambda x: x[1],reverse=True)[:nb_top]:\n",
    "        print (f'Top {nb_top} negative words:',best_positive)\n",
    "    print('\\n')\n",
    "    for best_negative in sorted(feature_to_coef.items(),key=lambda x: x[1])[:nb_top]:\n",
    "        print (f'Top {nb_top} positive words:',best_negative)"
   ]
  },
  {
   "cell_type": "code",
   "execution_count": 41,
   "metadata": {
    "scrolled": false
   },
   "outputs": [
    {
     "name": "stdout",
     "output_type": "stream",
     "text": [
      "The classifier is LogisticRegression() \n",
      "\n",
      "              precision    recall  f1-score   support\n",
      "\n",
      "           0       0.86      0.88      0.87      2539\n",
      "           1       0.87      0.86      0.87      2461\n",
      "\n",
      "    accuracy                           0.87      5000\n",
      "   macro avg       0.87      0.87      0.87      5000\n",
      "weighted avg       0.87      0.87      0.87      5000\n",
      "\n"
     ]
    },
    {
     "data": {
      "image/png": "[encoded data removed]",
      "text/plain": [
       "<Figure size 360x360 with 2 Axes>"
      ]
     },
     "metadata": {},
     "output_type": "display_data"
    }
   ],
   "source": [
    "model_bigrams(LogisticRegression,X_train, y_train, X_val, y_val)"
   ]
  },
  {
   "cell_type": "code",
   "execution_count": 42,
   "metadata": {
    "scrolled": false
   },
   "outputs": [
    {
     "name": "stdout",
     "output_type": "stream",
     "text": [
      "Classifier is LogisticRegression()\n",
      "Top 10 negative words: ('worst', 2.1019201889299284)\n",
      "Top 10 negative words: ('boring', 1.5794107468570895)\n",
      "Top 10 negative words: ('awful', 1.559790862238613)\n",
      "Top 10 negative words: ('waste', 1.5581467718346407)\n",
      "Top 10 negative words: ('worse', 1.3589513860750488)\n",
      "Top 10 negative words: ('poor', 1.1922530711078205)\n",
      "Top 10 negative words: ('disappointment', 1.1836574896234926)\n",
      "Top 10 negative words: ('dull', 1.1728434362316977)\n",
      "Top 10 negative words: ('horrible', 1.1142905500859828)\n",
      "Top 10 negative words: ('disappointing', 1.107798191857963)\n",
      "\n",
      "\n",
      "Top 10 positive words: ('excellent', -1.2903921935997031)\n",
      "Top 10 positive words: ('wonderful', -1.2294481637856158)\n",
      "Top 10 positive words: ('perfect', -1.1769272997047209)\n",
      "Top 10 positive words: ('superb', -1.0287633972906902)\n",
      "Top 10 positive words: ('funniest', -0.986268969434897)\n",
      "Top 10 positive words: ('amazing', -0.9678865508084831)\n",
      "Top 10 positive words: ('fantastic', -0.944750006515532)\n",
      "Top 10 positive words: ('enjoyed', -0.9300589417497283)\n",
      "Top 10 positive words: ('favorite', -0.9275532118300261)\n",
      "Top 10 positive words: ('perfectly', -0.8815614375935399)\n"
     ]
    }
   ],
   "source": [
    "important_features_bigram(CountVectorizer,LogisticRegression,10,X_train,y_train)"
   ]
  },
  {
   "cell_type": "code",
   "execution_count": 43,
   "metadata": {
    "scrolled": false
   },
   "outputs": [
    {
     "name": "stdout",
     "output_type": "stream",
     "text": [
      "The classifier is MultinomialNB() \n",
      "\n",
      "              precision    recall  f1-score   support\n",
      "\n",
      "           0       0.89      0.87      0.88      2539\n",
      "           1       0.87      0.89      0.88      2461\n",
      "\n",
      "    accuracy                           0.88      5000\n",
      "   macro avg       0.88      0.88      0.88      5000\n",
      "weighted avg       0.88      0.88      0.88      5000\n",
      "\n"
     ]
    },
    {
     "data": {
      "image/png": "[encoded data removed]",
      "text/plain": [
       "<Figure size 360x360 with 2 Axes>"
      ]
     },
     "metadata": {},
     "output_type": "display_data"
    }
   ],
   "source": [
    "model_bigrams(MultinomialNB,X_train, y_train, X_val, y_val)"
   ]
  },
  {
   "cell_type": "code",
   "execution_count": 44,
   "metadata": {
    "scrolled": false
   },
   "outputs": [
    {
     "name": "stdout",
     "output_type": "stream",
     "text": [
      "Classifier is MultinomialNB()\n",
      "Top 10 negative words: ('movie', -4.969836817410876)\n",
      "Top 10 negative words: ('film', -5.220141714444191)\n",
      "Top 10 negative words: ('nt', -5.307819313976784)\n",
      "Top 10 negative words: ('one', -5.820368069821949)\n",
      "Top 10 negative words: ('like', -5.915122076085797)\n",
      "Top 10 negative words: ('would', -6.276394729273159)\n",
      "Top 10 negative words: ('time', -6.313730014467826)\n",
      "Top 10 negative words: ('good', -6.34167963377908)\n",
      "Top 10 negative words: ('character', -6.366823273342067)\n",
      "Top 10 negative words: ('bad', -6.378177423583102)\n",
      "\n",
      "\n",
      "Top 10 positive words: ('aadha', -14.700814520537042)\n",
      "Top 10 positive words: ('aadha shaadi', -14.700814520537042)\n",
      "Top 10 positive words: ('aaww', -14.700814520537042)\n",
      "Top 10 positive words: ('aaww yeah', -14.700814520537042)\n",
      "Top 10 positive words: ('aback anything', -14.700814520537042)\n",
      "Top 10 positive words: ('aback appearance', -14.700814520537042)\n",
      "Top 10 positive words: ('aback director', -14.700814520537042)\n",
      "Top 10 positive words: ('aback style', -14.700814520537042)\n",
      "Top 10 positive words: ('abandon also', -14.700814520537042)\n",
      "Top 10 positive words: ('abandon becomes', -14.700814520537042)\n"
     ]
    }
   ],
   "source": [
    "important_features_bigram(CountVectorizer,MultinomialNB,10,X_train,y_train)"
   ]
  },
  {
   "cell_type": "markdown",
   "metadata": {},
   "source": [
    "By using bigram as the parameter in the vectorizer, we simply considered 2-word sequences in addition to single words. The accuracy score does not change much for both models.\n",
    "\n",
    "By looking at the list of top 10 important words, we can see that there are several 2 word sequences. For example,'culturedeeply', 'neardangerous'  in the list of positive words of the NB model or 'welldiscussed', 'womennone' in the list of the positive words of the LR model.\n",
    "These words do not really show whether the review is positive or negative. Even the seperate words do not really correspond to the type of   In addition to this, we can see that the coefficience of the words in the LR model has dropped dramatically for all the top 10 words. \n",
    "\n",
    "As for the model NB, even the score increases slightly compared to the one of the unigram model, it does not perform as good as the LR model.\n",
    "\n",
    "Thus, the bigram does not has a positive impact on the performance of the models."
   ]
  },
  {
   "cell_type": "markdown",
   "metadata": {},
   "source": [
    "## Modeling with Convolutional Neural Network - Deep learning"
   ]
  },
  {
   "cell_type": "code",
   "execution_count": 45,
   "metadata": {
    "scrolled": false
   },
   "outputs": [
    {
     "data": {
      "text/html": [
       "<div>\n",
       "<style scoped>\n",
       "    .dataframe tbody tr th:only-of-type {\n",
       "        vertical-align: middle;\n",
       "    }\n",
       "\n",
       "    .dataframe tbody tr th {\n",
       "        vertical-align: top;\n",
       "    }\n",
       "\n",
       "    .dataframe thead th {\n",
       "        text-align: right;\n",
       "    }\n",
       "</style>\n",
       "<table border=\"1\" class=\"dataframe\">\n",
       "  <thead>\n",
       "    <tr style=\"text-align: right;\">\n",
       "      <th></th>\n",
       "      <th>text</th>\n",
       "      <th>sentiment</th>\n",
       "      <th>text_clean</th>\n",
       "    </tr>\n",
       "  </thead>\n",
       "  <tbody>\n",
       "    <tr>\n",
       "      <th>0</th>\n",
       "      <td>For a movie that gets no respect there sure ar...</td>\n",
       "      <td>0</td>\n",
       "      <td>movie get respect sure lot memorable quote lis...</td>\n",
       "    </tr>\n",
       "    <tr>\n",
       "      <th>1</th>\n",
       "      <td>Bizarre horror movie filled with famous faces ...</td>\n",
       "      <td>0</td>\n",
       "      <td>horror movie filled famous face stolen later p...</td>\n",
       "    </tr>\n",
       "    <tr>\n",
       "      <th>2</th>\n",
       "      <td>A solid, if unremarkable film. Matthau, as Ein...</td>\n",
       "      <td>0</td>\n",
       "      <td>solid unremarkable film wonderful favorite par...</td>\n",
       "    </tr>\n",
       "    <tr>\n",
       "      <th>3</th>\n",
       "      <td>It's a strange feeling to sit alone in a theat...</td>\n",
       "      <td>0</td>\n",
       "      <td>strange feeling sit alone theater occupied par...</td>\n",
       "    </tr>\n",
       "    <tr>\n",
       "      <th>4</th>\n",
       "      <td>You probably all already know this by now, but...</td>\n",
       "      <td>0</td>\n",
       "      <td>probably already know additional episode never...</td>\n",
       "    </tr>\n",
       "  </tbody>\n",
       "</table>\n",
       "</div>"
      ],
      "text/plain": [
       "                                                text  sentiment  \\\n",
       "0  For a movie that gets no respect there sure ar...          0   \n",
       "1  Bizarre horror movie filled with famous faces ...          0   \n",
       "2  A solid, if unremarkable film. Matthau, as Ein...          0   \n",
       "3  It's a strange feeling to sit alone in a theat...          0   \n",
       "4  You probably all already know this by now, but...          0   \n",
       "\n",
       "                                          text_clean  \n",
       "0  movie get respect sure lot memorable quote lis...  \n",
       "1  horror movie filled famous face stolen later p...  \n",
       "2  solid unremarkable film wonderful favorite par...  \n",
       "3  strange feeling sit alone theater occupied par...  \n",
       "4  probably already know additional episode never...  "
      ]
     },
     "execution_count": 45,
     "metadata": {},
     "output_type": "execute_result"
    }
   ],
   "source": [
    "df_clean.head()"
   ]
  },
  {
   "cell_type": "code",
   "execution_count": 46,
   "metadata": {},
   "outputs": [
    {
     "data": {
      "text/plain": [
       "17072    delectable fusion babble luridly bad filmmakin...\n",
       "20552    scolded scorned fellow stating disappointment ...\n",
       "16233    muchly overrated overhyped sequel came straigh...\n",
       "22357    overwhelming cult following sad documentary mu...\n",
       "12979    offer actor enough money anything sure much go...\n",
       "Name: text_clean, dtype: object"
      ]
     },
     "execution_count": 46,
     "metadata": {},
     "output_type": "execute_result"
    }
   ],
   "source": [
    "X_train.head()"
   ]
  },
  {
   "cell_type": "markdown",
   "metadata": {},
   "source": [
    "##### Step 1:  Build training vocabulary and get maximum training sentence length and total number of words training, validation and test data"
   ]
  },
  {
   "cell_type": "markdown",
   "metadata": {},
   "source": [
    "**For train set**"
   ]
  },
  {
   "cell_type": "code",
   "execution_count": 47,
   "metadata": {},
   "outputs": [],
   "source": [
    "#Create a serie of words from the X_train\n",
    "lst_word_train = X_train.map(lambda x: x.split(' '))"
   ]
  },
  {
   "cell_type": "code",
   "execution_count": 48,
   "metadata": {
    "scrolled": false
   },
   "outputs": [
    {
     "data": {
      "text/plain": [
       "17072    [delectable, fusion, babble, luridly, bad, fil...\n",
       "20552    [scolded, scorned, fellow, stating, disappoint...\n",
       "16233    [muchly, overrated, overhyped, sequel, came, s...\n",
       "22357    [overwhelming, cult, following, sad, documenta...\n",
       "12979    [offer, actor, enough, money, anything, sure, ...\n",
       "                               ...                        \n",
       "18855    [thought, managed, escape, watery, grave, part...\n",
       "18303    [stunning, look, inside, fictional, family, in...\n",
       "13106    [name, automatically, linked, bad, horrorcult,...\n",
       "1955     [loved, series, kid, family, always, watched, ...\n",
       "5361     [movie, one, word, wow, probably, one, best, m...\n",
       "Name: text_clean, Length: 15000, dtype: object"
      ]
     },
     "execution_count": 48,
     "metadata": {},
     "output_type": "execute_result"
    }
   ],
   "source": [
    "lst_word_train"
   ]
  },
  {
   "cell_type": "code",
   "execution_count": 49,
   "metadata": {
    "scrolled": true
   },
   "outputs": [
    {
     "name": "stdout",
     "output_type": "stream",
     "text": [
      "1503350 words total, with a vocabulary size of 43838\n",
      "Max sentence length is 754\n"
     ]
    }
   ],
   "source": [
    "#Build training vocabulary and get maximum training sentence length and total number of words training data\n",
    "all_training_words = [word for tokens in lst_word_train for word in tokens]\n",
    "training_sentence_lengths = [len(tokens) for tokens in lst_word_train]\n",
    "TRAINING_VOCAB = sorted(list(set(all_training_words)))\n",
    "print(\"%s words total, with a vocabulary size of %s\" % (len(all_training_words), len(TRAINING_VOCAB)))\n",
    "print(\"Max sentence length is %s\" % max(training_sentence_lengths))"
   ]
  },
  {
   "cell_type": "code",
   "execution_count": 50,
   "metadata": {},
   "outputs": [],
   "source": [
    "#Use counter to map words to their count number\n",
    "counter_vocab_train = Counter(all_training_words)"
   ]
  },
  {
   "cell_type": "code",
   "execution_count": 51,
   "metadata": {
    "scrolled": true
   },
   "outputs": [
    {
     "name": "stdout",
     "output_type": "stream",
     "text": [
      "[('movie', 30052), ('film', 27781), ('nt', 20070), ('one', 14762), ('like', 11735), ('time', 9077), ('good', 8613), ('character', 8332), ('would', 7969), ('story', 7575), ('get', 7240), ('make', 7037), ('see', 6912), ('really', 6868), ('even', 6677), ('scene', 6276), ('much', 5632), ('could', 5485), ('bad', 5202), ('people', 5182), ('way', 5066), ('great', 4982), ('well', 4964), ('show', 4898), ('made', 4845), ('first', 4743), ('thing', 4688), ('also', 4624), ('think', 4484), ('go', 4343), ('life', 4336), ('know', 4168), ('seen', 4027), ('watch', 3958), ('plot', 3899), ('actor', 3895), ('end', 3868), ('say', 3845), ('many', 3783), ('never', 3779), ('year', 3773), ('acting', 3770), ('two', 3761), ('look', 3722), ('love', 3705), ('little', 3595), ('best', 3514), ('ever', 3425), ('better', 3410), ('work', 3309)]\n"
     ]
    }
   ],
   "source": [
    "print(counter_vocab_train.most_common(50))"
   ]
  },
  {
   "cell_type": "markdown",
   "metadata": {},
   "source": [
    "**For val set**"
   ]
  },
  {
   "cell_type": "code",
   "execution_count": 52,
   "metadata": {},
   "outputs": [],
   "source": [
    "#Create a serie of words from the X_val\n",
    "lst_word_val = X_val.map(lambda x: x.split(' '))"
   ]
  },
  {
   "cell_type": "code",
   "execution_count": 53,
   "metadata": {
    "scrolled": true
   },
   "outputs": [
    {
     "name": "stdout",
     "output_type": "stream",
     "text": [
      "505824 words total, with a vocabulary size of 26714\n",
      "Max sentence length is 891\n"
     ]
    }
   ],
   "source": [
    "#Build training vocabulary and get maximum training sentence length and total number of words validation data\n",
    "all_val_words = [word for tokens in lst_word_val for word in tokens]\n",
    "val_sentence_lengths = [len(tokens) for tokens in lst_word_val]\n",
    "VAL_VOCAB = sorted(list(set(all_val_words)))\n",
    "print(\"%s words total, with a vocabulary size of %s\" % (len(all_val_words), len(VAL_VOCAB)))\n",
    "print(\"Max sentence length is %s\" % max(val_sentence_lengths))"
   ]
  },
  {
   "cell_type": "code",
   "execution_count": 54,
   "metadata": {},
   "outputs": [],
   "source": [
    "#Use counter to map words to their count number\n",
    "counter_vocab_val = Counter(all_val_words)"
   ]
  },
  {
   "cell_type": "markdown",
   "metadata": {},
   "source": [
    "**For test set**"
   ]
  },
  {
   "cell_type": "code",
   "execution_count": 55,
   "metadata": {},
   "outputs": [],
   "source": [
    "#Create a serie of words from the X_val\n",
    "lst_word_test = X_test.map(lambda x: x.split(' '))"
   ]
  },
  {
   "cell_type": "code",
   "execution_count": 56,
   "metadata": {
    "scrolled": true
   },
   "outputs": [
    {
     "name": "stdout",
     "output_type": "stream",
     "text": [
      "496096 words total, with a vocabulary size of 26616\n",
      "Max sentence length is 492\n"
     ]
    }
   ],
   "source": [
    "#Build training vocabulary and get maximum training sentence length and total number of words validation data\n",
    "all_test_words = [word for tokens in lst_word_test for word in tokens]\n",
    "test_sentence_lengths = [len(tokens) for tokens in lst_word_test]\n",
    "TEST_VOCAB = sorted(list(set(all_test_words)))\n",
    "print(\"%s words total, with a vocabulary size of %s\" % (len(all_test_words), len(TEST_VOCAB)))\n",
    "print(\"Max sentence length is %s\" % max(test_sentence_lengths))"
   ]
  },
  {
   "cell_type": "code",
   "execution_count": 57,
   "metadata": {},
   "outputs": [],
   "source": [
    "#Use counter to map words to their count number\n",
    "counter_vocab_test = Counter(all_test_words)"
   ]
  },
  {
   "cell_type": "markdown",
   "metadata": {},
   "source": [
    "##### Step 2: Loading Google News Word2Vec model"
   ]
  },
  {
   "cell_type": "code",
   "execution_count": 58,
   "metadata": {
    "scrolled": false
   },
   "outputs": [],
   "source": [
    "word2vec_path = 'D:/Documents/Ironhack/Projet 7/GoogleNews-vectors-negative300.bin.gz'\n",
    "word2vec = models.KeyedVectors.load_word2vec_format(word2vec_path, binary=True)"
   ]
  },
  {
   "cell_type": "code",
   "execution_count": 59,
   "metadata": {},
   "outputs": [],
   "source": [
    "def get_average_word2vec(tokens_list, vector, generate_missing=False, k=300):\n",
    "    if len(tokens_list)<1:\n",
    "        return np.zeros(k)\n",
    "    if generate_missing:\n",
    "        vectorized = [vector[word] if word in vector else np.random.rand(k) for word in tokens_list]\n",
    "    else:\n",
    "        vectorized = [vector[word] if word in vector else np.zeros(k) for word in tokens_list]\n",
    "    length = len(vectorized)\n",
    "    summed = np.sum(vectorized, axis=0)\n",
    "    averaged = np.divide(summed, length)\n",
    "    return averaged\n",
    "\n",
    "def get_word2vec_embeddings(vectors, X, generate_missing=False):\n",
    "    embeddings = X.apply(lambda x: get_average_word2vec(x, vectors, \n",
    "                                                                                generate_missing=generate_missing))\n",
    "    return list(embeddings)"
   ]
  },
  {
   "cell_type": "code",
   "execution_count": 60,
   "metadata": {},
   "outputs": [],
   "source": [
    "training_embeddings = get_word2vec_embeddings(word2vec, lst_word_train, generate_missing=True)\n"
   ]
  },
  {
   "cell_type": "code",
   "execution_count": 61,
   "metadata": {
    "scrolled": false
   },
   "outputs": [
    {
     "data": {
      "text/plain": [
       "15000"
      ]
     },
     "execution_count": 61,
     "metadata": {},
     "output_type": "execute_result"
    }
   ],
   "source": [
    "len(training_embeddings)"
   ]
  },
  {
   "cell_type": "markdown",
   "metadata": {},
   "source": [
    "##### Step 3: Tokenize and Pad sequences"
   ]
  },
  {
   "cell_type": "code",
   "execution_count": 62,
   "metadata": {},
   "outputs": [],
   "source": [
    "#Determine the max_sequence length for the whole dataset. \n",
    "MAX_SEQUENCE_LENGTH = max(training_sentence_lengths) #We use the max sentence length of train dataset because as we can see above, it is the highest value among train, validation, test sets \n",
    "\n",
    "#Define the embedding dimension\n",
    "EMBEDDING_DIM = 300 #can be adjusted (Eg: 100, 150, 50)"
   ]
  },
  {
   "cell_type": "markdown",
   "metadata": {},
   "source": [
    "**Tokenize and pad sequences for train set**"
   ]
  },
  {
   "cell_type": "code",
   "execution_count": 63,
   "metadata": {},
   "outputs": [
    {
     "name": "stdout",
     "output_type": "stream",
     "text": [
      "Found 43838 unique tokens.\n"
     ]
    }
   ],
   "source": [
    "tokenizer = Tokenizer(num_words=len(TRAINING_VOCAB), lower=True, char_level=False)\n",
    "tokenizer.fit_on_texts(lst_word_train)\n",
    "training_sequences = tokenizer.texts_to_sequences(lst_word_train)\n",
    "\n",
    "train_word_index = tokenizer.word_index\n",
    "print('Found %s unique tokens.' % len(train_word_index))"
   ]
  },
  {
   "cell_type": "code",
   "execution_count": 64,
   "metadata": {},
   "outputs": [],
   "source": [
    "train_cnn_data = pad_sequences(training_sequences, maxlen=MAX_SEQUENCE_LENGTH)"
   ]
  },
  {
   "cell_type": "code",
   "execution_count": 65,
   "metadata": {},
   "outputs": [
    {
     "name": "stdout",
     "output_type": "stream",
     "text": [
      "(43839, 300)\n"
     ]
    }
   ],
   "source": [
    "train_embedding_weights = np.zeros((len(train_word_index)+1, EMBEDDING_DIM))\n",
    "for word,index in train_word_index.items():\n",
    "    train_embedding_weights[index,:] = word2vec[word] if word in word2vec else np.random.rand(EMBEDDING_DIM)\n",
    "print(train_embedding_weights.shape)"
   ]
  },
  {
   "cell_type": "markdown",
   "metadata": {},
   "source": [
    "As we can see, 48279 is the vocabulary size of train set, and 300 is the embedding dimension defined at the begining of step 3"
   ]
  },
  {
   "cell_type": "markdown",
   "metadata": {},
   "source": [
    "**Tokenize and pad sequences for validation set**"
   ]
  },
  {
   "cell_type": "code",
   "execution_count": 66,
   "metadata": {},
   "outputs": [],
   "source": [
    "val_sequences = tokenizer.texts_to_sequences(lst_word_val)\n",
    "val_cnn_data = pad_sequences(val_sequences, maxlen=MAX_SEQUENCE_LENGTH) "
   ]
  },
  {
   "cell_type": "markdown",
   "metadata": {},
   "source": [
    "**Tokenize and pad sequences for test set**"
   ]
  },
  {
   "cell_type": "code",
   "execution_count": 67,
   "metadata": {},
   "outputs": [],
   "source": [
    "test_sequences = tokenizer.texts_to_sequences(lst_word_test)\n",
    "test_cnn_data = pad_sequences(test_sequences, maxlen=MAX_SEQUENCE_LENGTH) "
   ]
  },
  {
   "cell_type": "markdown",
   "metadata": {},
   "source": [
    "##### Step 4: Define CNN"
   ]
  },
  {
   "cell_type": "code",
   "execution_count": 68,
   "metadata": {},
   "outputs": [],
   "source": [
    "def ConvNet(embeddings, max_sequence_length, num_words, embedding_dim):\n",
    "    \n",
    "    embedding_layer = Embedding(num_words,\n",
    "                            embedding_dim,\n",
    "                            weights=[embeddings],\n",
    "                            input_length=max_sequence_length,\n",
    "                            trainable=False)\n",
    "    \n",
    "    sequence_input = Input(shape=(max_sequence_length,), dtype='int32')\n",
    "    embedded_sequences = embedding_layer(sequence_input)\n",
    "\n",
    "    convs = []\n",
    "    filter_sizes = [2,3,4,5,6]\n",
    "\n",
    "    for filter_size in filter_sizes:\n",
    "        l_conv = Conv1D(filters=200, kernel_size=filter_size, activation='relu')(embedded_sequences)\n",
    "        l_pool = GlobalMaxPooling1D()(l_conv)\n",
    "        convs.append(l_pool)\n",
    "\n",
    "\n",
    "    l_merge = concatenate(convs, axis=1)\n",
    "\n",
    "    x = Dropout(0.1)(l_merge)  \n",
    "    x = Dense(128, activation='relu')(x)\n",
    "    x = Dropout(0.2)(x)\n",
    "    preds = Dense(1, activation='sigmoid')(x) #1 because we only have 1 column in the Y dataset\n",
    "\n",
    "    model = Model(sequence_input, preds)\n",
    "    model.compile(loss='binary_crossentropy',\n",
    "                  optimizer='adam',\n",
    "                  metrics=['acc'])\n",
    "    model.summary()\n",
    "    return model"
   ]
  },
  {
   "cell_type": "code",
   "execution_count": 72,
   "metadata": {},
   "outputs": [
    {
     "data": {
      "text/plain": [
       "(15000, 754)"
      ]
     },
     "execution_count": 72,
     "metadata": {},
     "output_type": "execute_result"
    }
   ],
   "source": [
    "train_cnn_data.shape"
   ]
  },
  {
   "cell_type": "code",
   "execution_count": 73,
   "metadata": {},
   "outputs": [
    {
     "data": {
      "text/plain": [
       "(15000,)"
      ]
     },
     "execution_count": 73,
     "metadata": {},
     "output_type": "execute_result"
    }
   ],
   "source": [
    "y_train.shape"
   ]
  },
  {
   "cell_type": "code",
   "execution_count": 74,
   "metadata": {
    "scrolled": false
   },
   "outputs": [
    {
     "name": "stdout",
     "output_type": "stream",
     "text": [
      "Model: \"functional_1\"\n",
      "__________________________________________________________________________________________________\n",
      "Layer (type)                    Output Shape         Param #     Connected to                     \n",
      "==================================================================================================\n",
      "input_1 (InputLayer)            [(None, 754)]        0                                            \n",
      "__________________________________________________________________________________________________\n",
      "embedding (Embedding)           (None, 754, 300)     13151700    input_1[0][0]                    \n",
      "__________________________________________________________________________________________________\n",
      "conv1d (Conv1D)                 (None, 753, 200)     120200      embedding[0][0]                  \n",
      "__________________________________________________________________________________________________\n",
      "conv1d_1 (Conv1D)               (None, 752, 200)     180200      embedding[0][0]                  \n",
      "__________________________________________________________________________________________________\n",
      "conv1d_2 (Conv1D)               (None, 751, 200)     240200      embedding[0][0]                  \n",
      "__________________________________________________________________________________________________\n",
      "conv1d_3 (Conv1D)               (None, 750, 200)     300200      embedding[0][0]                  \n",
      "__________________________________________________________________________________________________\n",
      "conv1d_4 (Conv1D)               (None, 749, 200)     360200      embedding[0][0]                  \n",
      "__________________________________________________________________________________________________\n",
      "global_max_pooling1d (GlobalMax (None, 200)          0           conv1d[0][0]                     \n",
      "__________________________________________________________________________________________________\n",
      "global_max_pooling1d_1 (GlobalM (None, 200)          0           conv1d_1[0][0]                   \n",
      "__________________________________________________________________________________________________\n",
      "global_max_pooling1d_2 (GlobalM (None, 200)          0           conv1d_2[0][0]                   \n",
      "__________________________________________________________________________________________________\n",
      "global_max_pooling1d_3 (GlobalM (None, 200)          0           conv1d_3[0][0]                   \n",
      "__________________________________________________________________________________________________\n",
      "global_max_pooling1d_4 (GlobalM (None, 200)          0           conv1d_4[0][0]                   \n",
      "__________________________________________________________________________________________________\n",
      "concatenate (Concatenate)       (None, 1000)         0           global_max_pooling1d[0][0]       \n",
      "                                                                 global_max_pooling1d_1[0][0]     \n",
      "                                                                 global_max_pooling1d_2[0][0]     \n",
      "                                                                 global_max_pooling1d_3[0][0]     \n",
      "                                                                 global_max_pooling1d_4[0][0]     \n",
      "__________________________________________________________________________________________________\n",
      "dropout (Dropout)               (None, 1000)         0           concatenate[0][0]                \n",
      "__________________________________________________________________________________________________\n",
      "dense (Dense)                   (None, 128)          128128      dropout[0][0]                    \n",
      "__________________________________________________________________________________________________\n",
      "dropout_1 (Dropout)             (None, 128)          0           dense[0][0]                      \n",
      "__________________________________________________________________________________________________\n",
      "dense_1 (Dense)                 (None, 1)            129         dropout_1[0][0]                  \n",
      "==================================================================================================\n",
      "Total params: 14,480,957\n",
      "Trainable params: 1,329,257\n",
      "Non-trainable params: 13,151,700\n",
      "__________________________________________________________________________________________________\n"
     ]
    }
   ],
   "source": [
    "model = ConvNet(train_embedding_weights, MAX_SEQUENCE_LENGTH, len(train_word_index)+1, EMBEDDING_DIM)"
   ]
  },
  {
   "cell_type": "markdown",
   "metadata": {},
   "source": [
    "##### Step 5 Train CNN"
   ]
  },
  {
   "cell_type": "code",
   "execution_count": 75,
   "metadata": {},
   "outputs": [],
   "source": [
    "num_epochs = 3\n",
    "batch_size = 34"
   ]
  },
  {
   "cell_type": "code",
   "execution_count": 76,
   "metadata": {
    "scrolled": true
   },
   "outputs": [
    {
     "name": "stdout",
     "output_type": "stream",
     "text": [
      "Epoch 1/3\n",
      "398/398 [==============================] - 316s 794ms/step - loss: 0.4540 - acc: 0.7786 - val_loss: 0.3338 - val_acc: 0.8653\n",
      "Epoch 2/3\n",
      "398/398 [==============================] - 311s 783ms/step - loss: 0.2730 - acc: 0.8870 - val_loss: 0.2849 - val_acc: 0.8807\n",
      "Epoch 3/3\n",
      "398/398 [==============================] - 309s 775ms/step - loss: 0.1625 - acc: 0.9402 - val_loss: 0.3124 - val_acc: 0.8807\n"
     ]
    }
   ],
   "source": [
    "hist = model.fit(train_cnn_data, y_train, epochs=num_epochs, validation_split=0.1, shuffle=True, batch_size=batch_size)\n"
   ]
  },
  {
   "cell_type": "markdown",
   "metadata": {},
   "source": [
    "##### Step 6 Val CNN"
   ]
  },
  {
   "cell_type": "code",
   "execution_count": null,
   "metadata": {},
   "outputs": [],
   "source": [
    "model.fit"
   ]
  },
  {
   "cell_type": "code",
   "execution_count": null,
   "metadata": {},
   "outputs": [],
   "source": [
    "test_predictions = model.predict(test_cnn_data, batch_size=34, verbose=1)"
   ]
  },
  {
   "cell_type": "code",
   "execution_count": null,
   "metadata": {
    "scrolled": true
   },
   "outputs": [],
   "source": [
    "cm = confusion_matrix(y_test,test_predictions.round())\n",
    "cm"
   ]
  },
  {
   "cell_type": "code",
   "execution_count": null,
   "metadata": {
    "scrolled": true
   },
   "outputs": [],
   "source": [
    "recall_score(y_test,test_predictions.round())"
   ]
  },
  {
   "cell_type": "code",
   "execution_count": null,
   "metadata": {},
   "outputs": [],
   "source": [
    "accuracy_score(y_test,test_predictions.round())"
   ]
  },
  {
   "cell_type": "code",
   "execution_count": null,
   "metadata": {
    "scrolled": true
   },
   "outputs": [],
   "source": [
    "precision_score(y_test,test_predictions.round())"
   ]
  },
  {
   "cell_type": "code",
   "execution_count": null,
   "metadata": {
    "scrolled": true
   },
   "outputs": [],
   "source": [
    "f1_score(y_test,test_predictions.round())"
   ]
  },
  {
   "cell_type": "markdown",
   "metadata": {},
   "source": [
    "As we can see, the accuracy rate is 84% which is lower than the result got from Logistic Regression algorithm. However, we can try to adjust parameters to see if the result would be improved."
   ]
  },
  {
   "cell_type": "markdown",
   "metadata": {},
   "source": [
    "# Conclusion"
   ]
  },
  {
   "cell_type": "markdown",
   "metadata": {},
   "source": [
    "Within the scope of this project, we have tested 3 algorithms and obtained the highest accuracy rate of 88%. The logistic regression seems till now the most performing model. However, for further learning objectives, we can try to improve the result of these models by performing more hyperparameter tunning."
   ]
  }
 ],
 "metadata": {
  "kernelspec": {
   "display_name": "Python 3",
   "language": "python",
   "name": "python3"
  },
  "language_info": {
   "codemirror_mode": {
    "name": "ipython",
    "version": 3
   },
   "file_extension": ".py",
   "mimetype": "text/x-python",
   "name": "python",
   "nbconvert_exporter": "python",
   "pygments_lexer": "ipython3",
   "version": "3.7.6"
  },
  "toc": {
   "base_numbering": 1,
   "nav_menu": {},
   "number_sections": true,
   "sideBar": true,
   "skip_h1_title": false,
   "title_cell": "Table of Contents",
   "title_sidebar": "Contents",
   "toc_cell": true,
   "toc_position": {},
   "toc_section_display": true,
   "toc_window_display": false
  }
 },
 "nbformat": 4,
 "nbformat_minor": 4
}
